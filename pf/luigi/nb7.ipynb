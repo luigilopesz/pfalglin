{
 "cells": [
  {
   "cell_type": "markdown",
   "metadata": {},
   "source": [
    "## CODIGO DE HAMMING"
   ]
  },
  {
   "cell_type": "code",
   "execution_count": 14,
   "metadata": {},
   "outputs": [
    {
     "name": "stdout",
     "output_type": "stream",
     "text": [
      "INDEX: 5 / BIT: 6\n"
     ]
    }
   ],
   "source": [
    "def getErro(bits, par):\n",
    "  a, b, c = 0, 0, 0\n",
    "  # Check parity bits\n",
    "  if (int(bits[0]) + int(bits[2]) + int(bits[4]) + int(bits[6])) % 2 == 0:\n",
    "    if int(par[0]) == 1:\n",
    "      a = 1\n",
    "  elif int(par[0]) == 0:\n",
    "    a = 1\n",
    "\n",
    "  if (int(bits[1]) + int(bits[2]) + int(bits[5]) + int(bits[6])) % 2 == 0:\n",
    "    if int(par[1]) == 1:\n",
    "      b = 1\n",
    "  elif int(par[1]) == 0:\n",
    "    b = 1\n",
    "\n",
    "  if (int(bits[3]) + int(bits[4]) + int(bits[5]) + int(bits[6])) % 2 == 0:\n",
    "    if int(par[2]) == 1:\n",
    "      c = 1\n",
    "  elif int(par[2]) == 0:\n",
    "    c = 1\n",
    "\n",
    "  return f\"INDEX: {(a * (2**0) + b * (2**1) + c * (2**2)) - 1} / BIT: {(a * (2**0) + b * (2**1) + c * (2**2))}\"\n",
    "\n",
    "\n",
    "print(getErro(\"0100001\", \"110\"))\n"
   ]
  },
  {
   "cell_type": "markdown",
   "metadata": {},
   "source": [
    "### DCT -> discrete cosine transformation"
   ]
  },
  {
   "cell_type": "code",
   "execution_count": null,
   "metadata": {},
   "outputs": [],
   "source": []
  }
 ],
 "metadata": {
  "kernelspec": {
   "display_name": "Python 3",
   "language": "python",
   "name": "python3"
  },
  "language_info": {
   "codemirror_mode": {
    "name": "ipython",
    "version": 3
   },
   "file_extension": ".py",
   "mimetype": "text/x-python",
   "name": "python",
   "nbconvert_exporter": "python",
   "pygments_lexer": "ipython3",
   "version": "3.11.9"
  }
 },
 "nbformat": 4,
 "nbformat_minor": 2
}
