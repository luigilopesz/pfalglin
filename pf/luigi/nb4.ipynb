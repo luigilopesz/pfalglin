{
 "cells": [
  {
   "cell_type": "code",
   "execution_count": 2,
   "metadata": {},
   "outputs": [],
   "source": [
    "import numpy as np"
   ]
  },
  {
   "cell_type": "markdown",
   "metadata": {},
   "source": [
    "## 04 - BASES\n",
    "\n",
    "<img src=\"pinhole_diagrama.png\">\n",
    "\n",
    "Yp = -d * Yo / Xo\n",
    "\n",
    "Zp = -Xo / d\n",
    "\n",
    "=> Yp * Zp = Yo\n",
    "\n",
    "\n",
    "Usamos uma Matriz P para fazer aas projecoes de \n",
    "[Xo, Yo] em [Xp, Yp]\n",
    "\n",
    "$$\n",
    "\\begin{bmatrix}\n",
    "x_p\\\\\n",
    "y_pz_p\\\\\n",
    "z_p\n",
    "\\end{bmatrix}\n",
    "=\n",
    "\\begin{bmatrix}\n",
    "0 & 0 & -d\\\\\n",
    "0 & 1 & 0\\\\\n",
    "-1/d & 0 & 0\n",
    "\\end{bmatrix}\n",
    "\\begin{bmatrix}\n",
    "x_o\\\\\n",
    "y_o\\\\\n",
    "1\n",
    "\\end{bmatrix}\n",
    "$$"
   ]
  },
  {
   "cell_type": "code",
   "execution_count": 31,
   "metadata": {},
   "outputs": [],
   "source": [
    "def proj2d(x, y, d):\n",
    "  '''\n",
    "  retorna (Xp, Yp)\n",
    "  '''\n",
    "\n",
    "  xy = np.array([[x],\n",
    "                  [y],\n",
    "                  [1]])\n",
    "  \n",
    "  A = np.array([[0,    0, -d],\n",
    "                [0,    1,  0],\n",
    "                [-1/d, 0,  0]])\n",
    "  \n",
    "  P = A @ xy\n",
    "\n",
    "  Y = P[1]/P[2]\n",
    "  Y = list(Y)[0]\n",
    "  Y = f\"{Y:.3f}\"\n",
    "  Y = float(Y)\n",
    "\n",
    "  return (d, Y)\n"
   ]
  },
  {
   "cell_type": "code",
   "execution_count": 32,
   "metadata": {},
   "outputs": [
    {
     "data": {
      "text/plain": [
       "{'[9.42, 16.13]': -3.425,\n",
       " '[1.39, 8.27]': -11.899,\n",
       " '[4.42, 5.21]': -2.357,\n",
       " '[13.26, 15.63]': -2.357,\n",
       " '[2.21, 2.6]': -2.353,\n",
       " '[7.45, 8.53]': -2.29,\n",
       " '[9.9, 15.99]': -3.23}"
      ]
     },
     "execution_count": 32,
     "metadata": {},
     "output_type": "execute_result"
    }
   ],
   "source": [
    "p = [[9.42, 16.13], \n",
    "     [1.39, 8.27], \n",
    "     [4.42, 5.21], \n",
    "     [13.26, 15.63], \n",
    "     [2.21, 2.60], \n",
    "     [7.45, 8.53], \n",
    "     [9.90, 15.99]]\n",
    "d = {}\n",
    "for pontos in p:\n",
    "  x, y = pontos\n",
    "  key = str(pontos)\n",
    "  d[key] = proj2d(x, y, 2)[1]\n",
    "d"
   ]
  },
  {
   "cell_type": "code",
   "execution_count": 4,
   "metadata": {},
   "outputs": [],
   "source": [
    "def proj3d(x, y, z, d):\n",
    "  '''\n",
    "  retorna (Xp, Yp) de coordenadas xyz em d\n",
    "  '''\n",
    "\n",
    "  xz = np.array([[x],\n",
    "                 [z],\n",
    "                 [1]])\n",
    "  \n",
    "  yz = np.array([[y],\n",
    "                 [z],\n",
    "                 [1]])\n",
    "  \n",
    "  A = np.array([[0,    0, -d],\n",
    "                [1,    0,  0],\n",
    "                [0, -1/d,  0]])\n",
    "\n",
    "  px = A @ xz\n",
    "  py = A @ yz\n",
    "\n",
    "  return (px[1]/px[2], py[1]/py[2])"
   ]
  }
 ],
 "metadata": {
  "kernelspec": {
   "display_name": "Python 3",
   "language": "python",
   "name": "python3"
  },
  "language_info": {
   "codemirror_mode": {
    "name": "ipython",
    "version": 3
   },
   "file_extension": ".py",
   "mimetype": "text/x-python",
   "name": "python",
   "nbconvert_exporter": "python",
   "pygments_lexer": "ipython3",
   "version": "3.11.9"
  }
 },
 "nbformat": 4,
 "nbformat_minor": 2
}
