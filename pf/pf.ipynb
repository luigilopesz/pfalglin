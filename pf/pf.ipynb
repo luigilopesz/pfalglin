{
 "cells": [
  {
   "cell_type": "code",
   "execution_count": 2,
   "metadata": {},
   "outputs": [],
   "source": [
    "import numpy as np"
   ]
  },
  {
   "cell_type": "markdown",
   "metadata": {},
   "source": [
    "## 04 - BASES\n",
    "\n",
    "<img src=\"pinhole_diagrama.png\">\n",
    "\n",
    "Yp = -d * Yo / Xo\n",
    "\n",
    "Zp = -Xo / d\n",
    "\n",
    "=> Yp * Zp = Yo\n",
    "\n",
    "\n",
    "Usamos uma Matriz P para fazer aas projecoes de \n",
    "[Xo, Yo] em [Xp, Yp]\n",
    "\n",
    "$$\n",
    "\\begin{bmatrix}\n",
    "x_p\\\\\n",
    "y_pz_p\\\\\n",
    "z_p\n",
    "\\end{bmatrix}\n",
    "=\n",
    "\\begin{bmatrix}\n",
    "0 & 0 & -d\\\\\n",
    "0 & 1 & 0\\\\\n",
    "-1/d & 0 & 0\n",
    "\\end{bmatrix}\n",
    "\\begin{bmatrix}\n",
    "x_o\\\\\n",
    "y_o\\\\\n",
    "1\n",
    "\\end{bmatrix}\n",
    "$$"
   ]
  },
  {
   "cell_type": "code",
   "execution_count": 26,
   "metadata": {},
   "outputs": [],
   "source": [
    "def proj2d(x, y, d):\n",
    "  '''\n",
    "  retorna (Xp, Yp)\n",
    "  '''\n",
    "\n",
    "  xy = np.array([[x],\n",
    "                  [y],\n",
    "                  [1]])\n",
    "  \n",
    "  A = np.array([[0,    0, -d],\n",
    "                [0,    1,  0],\n",
    "                [-1/d, 0,  0]])\n",
    "  \n",
    "  P = A @ xy\n",
    "\n",
    "  return (d, P[1]/P[2])"
   ]
  },
  {
   "cell_type": "code",
   "execution_count": 27,
   "metadata": {},
   "outputs": [],
   "source": [
    "def proj3d(x, y, z, d):\n",
    "  '''\n",
    "  retorna (Xp, Yp) de coordenadas xyz em d\n",
    "  '''\n",
    "\n",
    "  xz = np.array([[x],\n",
    "                 [z],\n",
    "                 [1]])\n",
    "  \n",
    "  yz = np.array([[y],\n",
    "                 [z],\n",
    "                 [1]])\n",
    "  \n",
    "  A = np.array([[0,    0, -d],\n",
    "                [1,    0,  0],\n",
    "                [0, -1/d,  0]])\n",
    "\n",
    "  px = A @ xz\n",
    "  py = A @ yz\n",
    "\n",
    "  return (px[1]/px[2], py[1]/py[2])"
   ]
  },
  {
   "cell_type": "markdown",
   "metadata": {},
   "source": [
    "## 05 - AUTOVALOR e AUTOVETOR"
   ]
  },
  {
   "cell_type": "markdown",
   "metadata": {},
   "source": [
    "$A \\overrightarrow{v} = λ\\overrightarrow{v}$ \\\n",
    "$A \\overrightarrow{v} - (λ I) \\overrightarrow{v} = 0 $\\\n",
    "$(A - λ I) \\overrightarrow{v}= 0 $\\\n",
    "$det(A - λ I) = 0 $\n",
    "\n",
    "\n"
   ]
  },
  {
   "cell_type": "code",
   "execution_count": 4,
   "metadata": {},
   "outputs": [
    {
     "data": {
      "text/plain": [
       "array([[14.34180597],\n",
       "       [13.54638245],\n",
       "       [ 2.11181158]])"
      ]
     },
     "execution_count": 4,
     "metadata": {},
     "output_type": "execute_result"
    }
   ],
   "source": [
    "A = np.array([[0, 0.95, 0.05], [0.9, 0, 0.1], [0.7, 0.3, 0]]) # ex\n",
    "w, v = np.linalg.eig(A)   # w = autovalor / v = autovetor \n",
    "\n",
    "# propabilidade das bikes\n",
    "p = np.array([[0, 0.95, 0.7],\n",
    "              [0.9, 0, 0.3],\n",
    "              [0.1, 0.05, 0]])\n",
    "\n",
    "# n de bikes\n",
    "b = np.array([[10],\n",
    "              [10],\n",
    "              [10]])\n",
    "\n",
    "for _ in range(100):\n",
    "  b = p @ b\n",
    "b"
   ]
  },
  {
   "cell_type": "markdown",
   "metadata": {},
   "source": [
    "encontramos um sistema estavel, pq o valor MAXIMO dos autovalores é 1:\n",
    "\n",
    "- array([ 1.        , -0.91231056, -0.08768944])\n",
    "\n",
    "\n",
    "podemos usar desta informacao para analisar se o sistea é estavel ou nao"
   ]
  },
  {
   "cell_type": "markdown",
   "metadata": {},
   "source": [
    "# Ex CARCARAS e SAPOS\n",
    "**Objetivo: auto-vetores e auto-valores como pontos de estabilidade, expansão, ou colapso**\n",
    "\n",
    " Vamos retomar o problema da população de carcarás e de sapos no Capítulo 2. Nesse problema, tínhamos a situação em que carcarás estão no mesmo habitat que sapos, obedecendo às seguintes regras:\n",
    "\n",
    "* A população de carcarás naturalmente cai em 20% a cada mês\n",
    "* Para cada cinco mil sapos existentes naquele mês, um novo carcará nasce\n",
    "* A população de sapos naturalmente sobe em 10% porque eles se reproduzem\n",
    "* A cada mês, cada carcará consegue comer 100 sapos\n",
    "\n",
    "Isso significa que podemos escrever equações para calcular o número de carcarás e de sapos a cada mês, tomando por base a quantidade deles no mês anterior:\n",
    "\n",
    "$$ \n",
    "\\begin{cases}\n",
    "    \\begin{aligned}\n",
    "    c_t & = 0.8 c_{t-1} + 0.2 s_{t-1} \\\\\n",
    "    s_t & = - 0.1 c_{t-1} + 1.1 s_{t-1} \\\\\n",
    "    \\end{aligned}\n",
    "\\end{cases}\n",
    "$$\n",
    "\n",
    "Podemos fazer esse cálculo usando a operação matricial:\n",
    "$$\n",
    "\\begin{bmatrix}\n",
    "    c_t \\\\\n",
    "    s_t \n",
    "\\end{bmatrix}\n",
    "=\n",
    "\\begin{bmatrix}\n",
    "    0.8 & 0.2\\\\\n",
    "    -0.1 & 1.1\n",
    "\\end{bmatrix} \n",
    "\\begin{bmatrix}\n",
    "    c_{t-1} \\\\\n",
    "    s_{t-1}\n",
    "\\end{bmatrix}\n",
    "$$\n",
    "\n",
    "Como já vimos, podemos calcular a dinâmica da população ao longo do tempo partindo, por exemplo, de 600 carcarás e 500 mil sapos:"
   ]
  },
  {
   "cell_type": "code",
   "execution_count": 13,
   "metadata": {},
   "outputs": [
    {
     "name": "stdout",
     "output_type": "stream",
     "text": [
      "[ 1.         -0.91231056 -0.08768944]\n",
      "-\n",
      "[[-0.57735027 -0.69213549 -0.10624252]\n",
      " [-0.57735027  0.64793959 -0.04247924]\n",
      " [-0.57735027  0.31799803  0.99343245]]\n"
     ]
    }
   ],
   "source": [
    "\n",
    "# 1/5 é pq estamos tratando os sapos em MILHARES!\n",
    "p = np.array([[0.8, 1/5],\n",
    "              [-0.1, 1.1]])\n",
    "\n",
    "\n",
    "# escrevemos 600 / 500 e NAO 600 / 500.000 porque os sapos sao representados em MILHARES!!!\n",
    "cs = np.array([[600], \n",
    "               [500]])  \n",
    "\n",
    "\n",
    "w, v = np.linalg.eig(A)\n",
    "\n",
    "print(w)\n",
    "print('-')\n",
    "print(v)\n",
    "\n",
    "# aqui conseguimos ver que pelo primeiro vetor ter valor 1, o sistema NAO vai colapsar, vai entrar em \n",
    "# uma constante, podemos tambem usar o primeiro vetor (linha da esquerda), para achar a proporcao!\n",
    "\n",
    "# colapso / equilibrio / explosao"
   ]
  },
  {
   "cell_type": "markdown",
   "metadata": {},
   "source": [
    "# Explicacao para achar a matriz a partir dos autovalores e autovetores\n",
    "*Objetivo: encontrar uma matriz à partir de seus auto-valores e auto-vetores*\n",
    "\n",
    "Em algumas situações (por exemplo, quando estou montando essa lista de exercícios - mas, de forma mais geral, quando estamos projetando sistemas dinâmicos), gostaríamos de encontrar matrizes que têm os autovalores e autovetores que queremos. Para isso, vamos escrever a equação de autovetores e autovalores na forma matricial.\n",
    "\n",
    "Quando estamos falando de somente um auto-vetor, podemos escrever:\n",
    "\n",
    "$$\n",
    "Ax = x \\lambda\n",
    "$$\n",
    "\n",
    "Porém, se tivermos dois auto-vetores, e seus auto-valores correspondentes, temos na verdade um sistema:\n",
    "\n",
    "$$\n",
    "\\begin{cases}\n",
    "Ax_1 = x_1 \\lambda_1 \\\\\n",
    "Ax_2 = x_2 \\lambda_2 \n",
    "\\end{cases}\n",
    "$$\n",
    "\n",
    "Esse sistema pode ser escrito na forma de uma multiplicação matricial, se assumirmos que nossos auto-vetores são vetores-coluna:\n",
    "\n",
    "$$\n",
    "A \\begin{bmatrix} x_1 & x_2 \\end{bmatrix} = \\begin{bmatrix} x_1 & x_2 \\end{bmatrix} \\begin{bmatrix} \\lambda_1 & 0 \\\\ 0 & \\lambda_2 \\end{bmatrix} \n",
    "$$\n",
    "\n",
    "Multiplicando os dois lados da equação por $\\begin{bmatrix} x_1 & x_2 \\end{bmatrix}^{-1}$, ficamos com:\n",
    "\n",
    "$$\n",
    "A \\begin{bmatrix} x_1 & x_2 \\end{bmatrix}\\begin{bmatrix} x_1 & x_2 \\end{bmatrix}^{-1} = \\begin{bmatrix} x_1 & x_2 \\end{bmatrix} \\begin{bmatrix} \\lambda_1 & 0 \\\\ 0 & \\lambda_2 \\end{bmatrix} \\begin{bmatrix} x_1 & x_2 \\end{bmatrix}^{-1}\n",
    "$$\n",
    "\n",
    "e, portanto:\n",
    "$$\n",
    "A = \\begin{bmatrix} x_1 & x_2 \\end{bmatrix} \\begin{bmatrix} \\lambda_1 & 0 \\\\ 0 & \\lambda_2 \\end{bmatrix} \\begin{bmatrix} x_1 & x_2 \\end{bmatrix}^{-1}\n",
    "$$\n",
    "\n",
    "Por exemplo, se quiséssemos uma matriz cujos auto-valores são $0.7$ e $0.2$ e os auto-vetores correspondentes são $[1,0]^T$ e $[0.5, 0.5]^T$, então deveríamos calcular:\n",
    "\n",
    "$$\n",
    "A = \\begin{bmatrix} 1 & 0.5 \\\\ 0 & 0.5 \\end{bmatrix} \\begin{bmatrix} 0.7 & 0 \\\\ 0  & 0.2 \\end{bmatrix} \\begin{bmatrix} 1 & 0.5 \\\\ 0 & 0.5 \\end{bmatrix}^{-1}\n",
    "$$\n",
    "\n",
    "Encontre a matriz com autovetores $[1,0]^T$ e $[0.5, 0.5]^T$ e autovalores $0.7$ e $0.2$."
   ]
  },
  {
   "cell_type": "code",
   "execution_count": 14,
   "metadata": {},
   "outputs": [
    {
     "data": {
      "text/plain": [
       "array([[ 0.7, -0.5],\n",
       "       [ 0. ,  0.2]])"
      ]
     },
     "execution_count": 14,
     "metadata": {},
     "output_type": "execute_result"
    }
   ],
   "source": [
    "S = np.array( [[1, 0], [0.5, 0.5]]).T\n",
    "L = np.array( [ [0.7, 0], [0, 0.2] ])\n",
    "S @ L @ np.linalg.inv(S)"
   ]
  }
 ],
 "metadata": {
  "kernelspec": {
   "display_name": "Python 3",
   "language": "python",
   "name": "python3"
  },
  "language_info": {
   "codemirror_mode": {
    "name": "ipython",
    "version": 3
   },
   "file_extension": ".py",
   "mimetype": "text/x-python",
   "name": "python",
   "nbconvert_exporter": "python",
   "pygments_lexer": "ipython3",
   "version": "3.11.9"
  }
 },
 "nbformat": 4,
 "nbformat_minor": 2
}
